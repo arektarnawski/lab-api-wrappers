{
 "cells": [
  {
   "cell_type": "code",
   "execution_count": 1,
   "id": "a7c0a8b3-db18-4377-ac8e-c886768ce3d9",
   "metadata": {},
   "outputs": [],
   "source": [
    "# ----- Lab 1 starts here (Web Scraping Single Page)"
   ]
  },
  {
   "cell_type": "code",
   "execution_count": 2,
   "id": "e212884a-6e31-4f4d-97dd-fe76699af2d0",
   "metadata": {},
   "outputs": [],
   "source": [
    "from bs4 import BeautifulSoup\n",
    "import requests\n",
    "import pandas as pd\n",
    "pd.set_option('display.max_rows', 20)"
   ]
  },
  {
   "cell_type": "code",
   "execution_count": 3,
   "id": "bd837eb6-dcdd-402b-a732-ea98fd6245a8",
   "metadata": {},
   "outputs": [],
   "source": [
    "url = \"https://www.billboard.com/charts/hot-100/\""
   ]
  },
  {
   "cell_type": "code",
   "execution_count": 4,
   "id": "7459ee8f-2a0d-4f57-8c70-103f3429a644",
   "metadata": {},
   "outputs": [
    {
     "data": {
      "text/plain": [
       "200"
      ]
     },
     "execution_count": 4,
     "metadata": {},
     "output_type": "execute_result"
    }
   ],
   "source": [
    "response = requests.get(url)\n",
    "response.status_code "
   ]
  },
  {
   "cell_type": "code",
   "execution_count": 5,
   "id": "9444784e-f5bf-43ba-805b-797b3bd730e8",
   "metadata": {},
   "outputs": [],
   "source": [
    "soup = BeautifulSoup(response.content, \"html.parser\")"
   ]
  },
  {
   "cell_type": "code",
   "execution_count": 6,
   "id": "ea740067-f4f7-4094-b822-c74606bec1aa",
   "metadata": {
    "tags": []
   },
   "outputs": [],
   "source": [
    "#Title\n",
    "titles = []\n",
    "for title in soup.select(\"#title-of-a-story\")[3:103]:\n",
    "    titles.append(title.get_text().strip())\n",
    "    \n",
    "# Artist\n",
    "artists = []\n",
    "for artist in soup.select(\"li.o-chart-results-list__item.\\/\\/.lrv-u-flex-grow-1.lrv-u-flex.lrv-u-flex-direction-column.lrv-u-justify-content-center.lrv-u-border-b-1.u-border-b-0\\@mobile-max.lrv-u-border-color-grey-light.lrv-u-padding-l-1\\@mobile-max > span\"):\n",
    "    artists.append(artist.get_text().strip())\n",
    "    \n",
    "top100billboard = pd.DataFrame({'artist':artists,'title':titles})"
   ]
  },
  {
   "cell_type": "code",
   "execution_count": 7,
   "id": "9042bf13-6407-468e-a74e-cd4139b6dc30",
   "metadata": {},
   "outputs": [
    {
     "data": {
      "text/html": [
       "<div>\n",
       "<style scoped>\n",
       "    .dataframe tbody tr th:only-of-type {\n",
       "        vertical-align: middle;\n",
       "    }\n",
       "\n",
       "    .dataframe tbody tr th {\n",
       "        vertical-align: top;\n",
       "    }\n",
       "\n",
       "    .dataframe thead th {\n",
       "        text-align: right;\n",
       "    }\n",
       "</style>\n",
       "<table border=\"1\" class=\"dataframe\">\n",
       "  <thead>\n",
       "    <tr style=\"text-align: right;\">\n",
       "      <th></th>\n",
       "      <th>artist</th>\n",
       "      <th>title</th>\n",
       "    </tr>\n",
       "  </thead>\n",
       "  <tbody>\n",
       "    <tr>\n",
       "      <th>0</th>\n",
       "      <td>Taylor Swift</td>\n",
       "      <td>All Too Well (Taylor's Version)</td>\n",
       "    </tr>\n",
       "    <tr>\n",
       "      <th>1</th>\n",
       "      <td>Adele</td>\n",
       "      <td>Easy On Me</td>\n",
       "    </tr>\n",
       "    <tr>\n",
       "      <th>2</th>\n",
       "      <td>The Kid LAROI &amp; Justin Bieber</td>\n",
       "      <td>Stay</td>\n",
       "    </tr>\n",
       "    <tr>\n",
       "      <th>3</th>\n",
       "      <td>Lil Nas X &amp; Jack Harlow</td>\n",
       "      <td>Industry Baby</td>\n",
       "    </tr>\n",
       "    <tr>\n",
       "      <th>4</th>\n",
       "      <td>Silk Sonic (Bruno Mars &amp; Anderson .Paak)</td>\n",
       "      <td>Smokin Out The Window</td>\n",
       "    </tr>\n",
       "    <tr>\n",
       "      <th>...</th>\n",
       "      <td>...</td>\n",
       "      <td>...</td>\n",
       "    </tr>\n",
       "    <tr>\n",
       "      <th>55</th>\n",
       "      <td>Summer Walker &amp; SZA</td>\n",
       "      <td>No Love</td>\n",
       "    </tr>\n",
       "    <tr>\n",
       "      <th>56</th>\n",
       "      <td>Normani Featuring Cardi B</td>\n",
       "      <td>Wild Side</td>\n",
       "    </tr>\n",
       "    <tr>\n",
       "      <th>57</th>\n",
       "      <td>Chloe</td>\n",
       "      <td>Have Mercy</td>\n",
       "    </tr>\n",
       "    <tr>\n",
       "      <th>58</th>\n",
       "      <td>Taylor Swift</td>\n",
       "      <td>I Almost Do (Taylor's Version)</td>\n",
       "    </tr>\n",
       "    <tr>\n",
       "      <th>59</th>\n",
       "      <td>Blxst &amp; Tyga Featuring Ty Dolla $ign</td>\n",
       "      <td>Chosen</td>\n",
       "    </tr>\n",
       "  </tbody>\n",
       "</table>\n",
       "<p>60 rows × 2 columns</p>\n",
       "</div>"
      ],
      "text/plain": [
       "                                      artist                            title\n",
       "0                               Taylor Swift  All Too Well (Taylor's Version)\n",
       "1                                      Adele                       Easy On Me\n",
       "2              The Kid LAROI & Justin Bieber                             Stay\n",
       "3                    Lil Nas X & Jack Harlow                    Industry Baby\n",
       "4   Silk Sonic (Bruno Mars & Anderson .Paak)            Smokin Out The Window\n",
       "..                                       ...                              ...\n",
       "55                       Summer Walker & SZA                          No Love\n",
       "56                 Normani Featuring Cardi B                        Wild Side\n",
       "57                                     Chloe                       Have Mercy\n",
       "58                              Taylor Swift   I Almost Do (Taylor's Version)\n",
       "59      Blxst & Tyga Featuring Ty Dolla $ign                           Chosen\n",
       "\n",
       "[60 rows x 2 columns]"
      ]
     },
     "execution_count": 7,
     "metadata": {},
     "output_type": "execute_result"
    }
   ],
   "source": [
    "top100billboard.head(60)"
   ]
  },
  {
   "cell_type": "code",
   "execution_count": 8,
   "id": "821d2d0a-b957-418f-a442-124acf4f8b20",
   "metadata": {},
   "outputs": [],
   "source": [
    "# ----- Lab 2 starts here (Web Scraping Multiple Pages)"
   ]
  },
  {
   "cell_type": "code",
   "execution_count": 9,
   "id": "f58e6c33-60fc-4724-a859-8b54df394e91",
   "metadata": {},
   "outputs": [],
   "source": [
    "# PopVortex iTunes Top100 USA"
   ]
  },
  {
   "cell_type": "code",
   "execution_count": 10,
   "id": "51c32655-fb4a-4a8e-8321-ff3230fa906e",
   "metadata": {},
   "outputs": [],
   "source": [
    "url = 'http://www.popvortex.com/music/charts/top-100-songs.php'"
   ]
  },
  {
   "cell_type": "code",
   "execution_count": 11,
   "id": "01920490-55e9-49e6-bfaa-30ec595e9848",
   "metadata": {},
   "outputs": [
    {
     "data": {
      "text/plain": [
       "'http://www.popvortex.com/music/charts/top-100-songs.php'"
      ]
     },
     "metadata": {},
     "output_type": "display_data"
    },
    {
     "data": {
      "text/plain": [
       "200"
      ]
     },
     "metadata": {},
     "output_type": "display_data"
    }
   ],
   "source": [
    "response = requests.get(url)\n",
    "display(url,response.status_code)"
   ]
  },
  {
   "cell_type": "code",
   "execution_count": 12,
   "id": "ed663efc-76ed-4a1b-88c6-d28b4ce219f2",
   "metadata": {},
   "outputs": [],
   "source": [
    "soup = BeautifulSoup(response.content, \"html.parser\")"
   ]
  },
  {
   "cell_type": "code",
   "execution_count": 13,
   "id": "ad590b12-7ca4-40f2-a7a7-b28ea636eecc",
   "metadata": {},
   "outputs": [
    {
     "data": {
      "text/html": [
       "<div>\n",
       "<style scoped>\n",
       "    .dataframe tbody tr th:only-of-type {\n",
       "        vertical-align: middle;\n",
       "    }\n",
       "\n",
       "    .dataframe tbody tr th {\n",
       "        vertical-align: top;\n",
       "    }\n",
       "\n",
       "    .dataframe thead th {\n",
       "        text-align: right;\n",
       "    }\n",
       "</style>\n",
       "<table border=\"1\" class=\"dataframe\">\n",
       "  <thead>\n",
       "    <tr style=\"text-align: right;\">\n",
       "      <th></th>\n",
       "      <th>artist</th>\n",
       "      <th>title</th>\n",
       "    </tr>\n",
       "  </thead>\n",
       "  <tbody>\n",
       "    <tr>\n",
       "      <th>0</th>\n",
       "      <td>Adele</td>\n",
       "      <td>Easy On Me</td>\n",
       "    </tr>\n",
       "    <tr>\n",
       "      <th>1</th>\n",
       "      <td>State of Mine &amp; Drew Jacobs</td>\n",
       "      <td>God's Country</td>\n",
       "    </tr>\n",
       "    <tr>\n",
       "      <th>2</th>\n",
       "      <td>Elton John &amp; Dua Lipa</td>\n",
       "      <td>Cold Heart (PNAU Remix)</td>\n",
       "    </tr>\n",
       "    <tr>\n",
       "      <th>3</th>\n",
       "      <td>GAYLE</td>\n",
       "      <td>abcdefu</td>\n",
       "    </tr>\n",
       "    <tr>\n",
       "      <th>4</th>\n",
       "      <td>Walker Hayes</td>\n",
       "      <td>Fancy Like</td>\n",
       "    </tr>\n",
       "    <tr>\n",
       "      <th>...</th>\n",
       "      <td>...</td>\n",
       "      <td>...</td>\n",
       "    </tr>\n",
       "    <tr>\n",
       "      <th>55</th>\n",
       "      <td>Casting Crowns</td>\n",
       "      <td>Scars in Heaven</td>\n",
       "    </tr>\n",
       "    <tr>\n",
       "      <th>56</th>\n",
       "      <td>Olivia Rodrigo</td>\n",
       "      <td>traitor</td>\n",
       "    </tr>\n",
       "    <tr>\n",
       "      <th>57</th>\n",
       "      <td>Jimmie Allen &amp; Brad Paisley</td>\n",
       "      <td>Freedom Was A Highway</td>\n",
       "    </tr>\n",
       "    <tr>\n",
       "      <th>58</th>\n",
       "      <td>Kane Brown</td>\n",
       "      <td>One Mississippi</td>\n",
       "    </tr>\n",
       "    <tr>\n",
       "      <th>59</th>\n",
       "      <td>Doja Cat</td>\n",
       "      <td>Need To Know</td>\n",
       "    </tr>\n",
       "  </tbody>\n",
       "</table>\n",
       "<p>60 rows × 2 columns</p>\n",
       "</div>"
      ],
      "text/plain": [
       "                         artist                    title\n",
       "0                         Adele               Easy On Me\n",
       "1   State of Mine & Drew Jacobs            God's Country\n",
       "2         Elton John & Dua Lipa  Cold Heart (PNAU Remix)\n",
       "3                         GAYLE                  abcdefu\n",
       "4                  Walker Hayes               Fancy Like\n",
       "..                          ...                      ...\n",
       "55               Casting Crowns          Scars in Heaven\n",
       "56               Olivia Rodrigo                  traitor\n",
       "57  Jimmie Allen & Brad Paisley    Freedom Was A Highway\n",
       "58                   Kane Brown          One Mississippi\n",
       "59                     Doja Cat             Need To Know\n",
       "\n",
       "[60 rows x 2 columns]"
      ]
     },
     "execution_count": 13,
     "metadata": {},
     "output_type": "execute_result"
    }
   ],
   "source": [
    "#Title\n",
    "titles = []\n",
    "for title in soup.select(\"cite.title\"):\n",
    "    titles.append(title.get_text())\n",
    "    \n",
    "# Artist\n",
    "artists = []\n",
    "for artist in soup.select(\"em.artist\"):\n",
    "    artists.append(artist.get_text())\n",
    "    \n",
    "top100vortex = pd.DataFrame({'artist':artists,'title':titles})\n",
    "top100vortex.head(60)"
   ]
  },
  {
   "cell_type": "code",
   "execution_count": 14,
   "id": "a867330c-1524-46ba-9732-a213551bdd6b",
   "metadata": {},
   "outputs": [],
   "source": [
    "# Apple Music Top100 Global"
   ]
  },
  {
   "cell_type": "code",
   "execution_count": 15,
   "id": "a0951f36-608a-4772-951e-1d717a42789a",
   "metadata": {},
   "outputs": [],
   "source": [
    "url = 'https://music.apple.com/us/playlist/top-100-global/pl.d25f5d1181894928af76c85c967f8f31'"
   ]
  },
  {
   "cell_type": "code",
   "execution_count": 16,
   "id": "42d110ca-2b96-4990-b9a8-b63dbb609d36",
   "metadata": {},
   "outputs": [
    {
     "data": {
      "text/plain": [
       "'https://music.apple.com/us/playlist/top-100-global/pl.d25f5d1181894928af76c85c967f8f31'"
      ]
     },
     "metadata": {},
     "output_type": "display_data"
    },
    {
     "data": {
      "text/plain": [
       "200"
      ]
     },
     "metadata": {},
     "output_type": "display_data"
    }
   ],
   "source": [
    "response = requests.get(url)\n",
    "display(url,response.status_code)"
   ]
  },
  {
   "cell_type": "code",
   "execution_count": 17,
   "id": "96a1d9b9-c2d6-46e9-8f65-a63f4a6cfe79",
   "metadata": {},
   "outputs": [],
   "source": [
    "soup = BeautifulSoup(response.content, \"html.parser\")"
   ]
  },
  {
   "cell_type": "code",
   "execution_count": 18,
   "id": "322481e1-e6b6-4ed8-8daf-ab21029920e5",
   "metadata": {},
   "outputs": [
    {
     "data": {
      "text/plain": [
       "'Adele'"
      ]
     },
     "execution_count": 18,
     "metadata": {},
     "output_type": "execute_result"
    }
   ],
   "source": [
    "#Artist\n",
    "soup.select(\"div.songs-list-row__by-line\")[0].get_text().strip()"
   ]
  },
  {
   "cell_type": "code",
   "execution_count": 19,
   "id": "60642f9c-5444-4144-9dac-0a028dcd25f2",
   "metadata": {},
   "outputs": [
    {
     "data": {
      "text/plain": [
       "'Easy On Me'"
      ]
     },
     "execution_count": 19,
     "metadata": {},
     "output_type": "execute_result"
    }
   ],
   "source": [
    "#Title\n",
    "soup.select(\"div.songs-list-row__song-wrapper > div > div.songs-list-row__song-name\")[0].get_text()"
   ]
  },
  {
   "cell_type": "code",
   "execution_count": 20,
   "id": "418d8a02-fe61-4d73-8731-f3a987799ff8",
   "metadata": {},
   "outputs": [
    {
     "data": {
      "text/html": [
       "<div>\n",
       "<style scoped>\n",
       "    .dataframe tbody tr th:only-of-type {\n",
       "        vertical-align: middle;\n",
       "    }\n",
       "\n",
       "    .dataframe tbody tr th {\n",
       "        vertical-align: top;\n",
       "    }\n",
       "\n",
       "    .dataframe thead th {\n",
       "        text-align: right;\n",
       "    }\n",
       "</style>\n",
       "<table border=\"1\" class=\"dataframe\">\n",
       "  <thead>\n",
       "    <tr style=\"text-align: right;\">\n",
       "      <th></th>\n",
       "      <th>artist</th>\n",
       "      <th>title</th>\n",
       "    </tr>\n",
       "  </thead>\n",
       "  <tbody>\n",
       "    <tr>\n",
       "      <th>0</th>\n",
       "      <td>Adele</td>\n",
       "      <td>Easy On Me</td>\n",
       "    </tr>\n",
       "    <tr>\n",
       "      <th>1</th>\n",
       "      <td>Adele</td>\n",
       "      <td>Oh My God</td>\n",
       "    </tr>\n",
       "    <tr>\n",
       "      <th>2</th>\n",
       "      <td>Adele</td>\n",
       "      <td>My Little Love</td>\n",
       "    </tr>\n",
       "    <tr>\n",
       "      <th>3</th>\n",
       "      <td>Adele</td>\n",
       "      <td>I Drink Wine</td>\n",
       "    </tr>\n",
       "    <tr>\n",
       "      <th>4</th>\n",
       "      <td>The Kid LAROI &amp;  Justin Bieber</td>\n",
       "      <td>STAY</td>\n",
       "    </tr>\n",
       "    <tr>\n",
       "      <th>...</th>\n",
       "      <td>...</td>\n",
       "      <td>...</td>\n",
       "    </tr>\n",
       "    <tr>\n",
       "      <th>55</th>\n",
       "      <td>Summer Walker,  JT, &amp;  City Girls</td>\n",
       "      <td>Ex For A Reason</td>\n",
       "    </tr>\n",
       "    <tr>\n",
       "      <th>56</th>\n",
       "      <td>Drake</td>\n",
       "      <td>No Friends In The Industry</td>\n",
       "    </tr>\n",
       "    <tr>\n",
       "      <th>57</th>\n",
       "      <td>Young Dolph</td>\n",
       "      <td>100 Shots</td>\n",
       "    </tr>\n",
       "    <tr>\n",
       "      <th>58</th>\n",
       "      <td>Drake</td>\n",
       "      <td>Wants and Needs (feat. Lil Baby)</td>\n",
       "    </tr>\n",
       "    <tr>\n",
       "      <th>59</th>\n",
       "      <td>Drake</td>\n",
       "      <td>In The Bible (feat. Lil Durk &amp; GIVĒON)</td>\n",
       "    </tr>\n",
       "  </tbody>\n",
       "</table>\n",
       "<p>60 rows × 2 columns</p>\n",
       "</div>"
      ],
      "text/plain": [
       "                               artist                                   title\n",
       "0                               Adele                              Easy On Me\n",
       "1                               Adele                               Oh My God\n",
       "2                               Adele                          My Little Love\n",
       "3                               Adele                            I Drink Wine\n",
       "4      The Kid LAROI &  Justin Bieber                                    STAY\n",
       "..                                ...                                     ...\n",
       "55  Summer Walker,  JT, &  City Girls                         Ex For A Reason\n",
       "56                              Drake              No Friends In The Industry\n",
       "57                        Young Dolph                               100 Shots\n",
       "58                              Drake        Wants and Needs (feat. Lil Baby)\n",
       "59                              Drake  In The Bible (feat. Lil Durk & GIVĒON)\n",
       "\n",
       "[60 rows x 2 columns]"
      ]
     },
     "execution_count": 20,
     "metadata": {},
     "output_type": "execute_result"
    }
   ],
   "source": [
    "#Title\n",
    "titles = []\n",
    "for title in soup.select(\"div.songs-list__col.songs-list__col--song.typography-body > div > div.songs-list-row__song-wrapper > div\"):\n",
    "    titles.append(title.get_text().strip())\n",
    "    \n",
    "# Artist\n",
    "artists = []\n",
    "for artist in soup.select(\"div.songs-list-row__by-line\"):\n",
    "    artists.append(artist.get_text().strip())\n",
    "    \n",
    "top100apple = pd.DataFrame({'artist':artists,'title':titles})\n",
    "top100apple['title'] = top100apple['title'].apply(lambda x: x.split(\"\\n\")[0])\n",
    "top100apple.head(60)"
   ]
  },
  {
   "cell_type": "code",
   "execution_count": 21,
   "id": "9c7524c3-ee3b-41d5-966b-7b02a6d202ae",
   "metadata": {},
   "outputs": [],
   "source": [
    "# 4 Decades between 1980 - 2010\n",
    "# TSORT Top100 by decade"
   ]
  },
  {
   "cell_type": "code",
   "execution_count": 22,
   "id": "901fc17e-3e90-4b9e-a885-095f9504024a",
   "metadata": {},
   "outputs": [],
   "source": [
    "url2010 = 'http://tsort.info/music/ds2010.htm'\n",
    "url2000 = 'http://tsort.info/music/ds2000.htm'\n",
    "url1990 = 'http://tsort.info/music/ds1990.htm'\n",
    "url1980 = 'http://tsort.info/music/ds1980.htm'"
   ]
  },
  {
   "cell_type": "code",
   "execution_count": 23,
   "id": "5a8f9c07-7be3-40f3-9eea-9c2e7dc6413f",
   "metadata": {},
   "outputs": [
    {
     "data": {
      "text/plain": [
       "'http://tsort.info/music/ds2010.htm'"
      ]
     },
     "metadata": {},
     "output_type": "display_data"
    },
    {
     "data": {
      "text/plain": [
       "200"
      ]
     },
     "metadata": {},
     "output_type": "display_data"
    },
    {
     "data": {
      "text/plain": [
       "'http://tsort.info/music/ds2000.htm'"
      ]
     },
     "metadata": {},
     "output_type": "display_data"
    },
    {
     "data": {
      "text/plain": [
       "200"
      ]
     },
     "metadata": {},
     "output_type": "display_data"
    },
    {
     "data": {
      "text/plain": [
       "'http://tsort.info/music/ds1990.htm'"
      ]
     },
     "metadata": {},
     "output_type": "display_data"
    },
    {
     "data": {
      "text/plain": [
       "200"
      ]
     },
     "metadata": {},
     "output_type": "display_data"
    },
    {
     "data": {
      "text/plain": [
       "'http://tsort.info/music/ds1980.htm'"
      ]
     },
     "metadata": {},
     "output_type": "display_data"
    },
    {
     "data": {
      "text/plain": [
       "200"
      ]
     },
     "metadata": {},
     "output_type": "display_data"
    }
   ],
   "source": [
    "for url in [url2010, url2000,url1990,url1980]:\n",
    "    response = requests.get(url)\n",
    "    display(url,response.status_code)"
   ]
  },
  {
   "cell_type": "code",
   "execution_count": 24,
   "id": "f5276891-1b09-4c3a-8e41-daad6f0aa316",
   "metadata": {},
   "outputs": [],
   "source": [
    "soup2010 = BeautifulSoup(requests.get(url2010).content, \"html.parser\")\n",
    "soup2000 = BeautifulSoup(requests.get(url2000).content, \"html.parser\")\n",
    "soup1990 = BeautifulSoup(requests.get(url1990).content, \"html.parser\")\n",
    "soup1980 = BeautifulSoup(requests.get(url1980).content, \"html.parser\")"
   ]
  },
  {
   "cell_type": "code",
   "execution_count": 25,
   "id": "389ac1c5-6d7c-4ced-a122-00b7b5a0c068",
   "metadata": {},
   "outputs": [],
   "source": [
    "#1980\n",
    "artists = []\n",
    "titles = []\n",
    "years = []\n",
    "\n",
    "for artist in soup1980.select(\"td.art\"): #Artist\n",
    "    artists.append(artist.get_text())\n",
    "    \n",
    "for title in soup1980.select(\"td.tit\"): #Title\n",
    "    titles.append(title.get_text())\n",
    "    \n",
    "for year in soup1980.select(\"td.yer\"): #Year\n",
    "    years.append(year.get_text())\n",
    "\n",
    "year1980 = pd.DataFrame({'artist':artists, 'title':titles, 'year':years})"
   ]
  },
  {
   "cell_type": "code",
   "execution_count": 26,
   "id": "4c711208-937a-4245-af8a-9489531b5f19",
   "metadata": {},
   "outputs": [],
   "source": [
    "#1990\n",
    "artists = []\n",
    "titles = []\n",
    "years = []\n",
    "\n",
    "for artist in soup1990.select(\"td.art\"): #Artist\n",
    "    artists.append(artist.get_text())\n",
    "    \n",
    "for title in soup1990.select(\"td.tit\"): #Title\n",
    "    titles.append(title.get_text())\n",
    "    \n",
    "for year in soup1990.select(\"td.yer\"): #Year\n",
    "    years.append(year.get_text())\n",
    "\n",
    "year1990 = pd.DataFrame({'artist':artists, 'title':titles, 'year':years})"
   ]
  },
  {
   "cell_type": "code",
   "execution_count": 27,
   "id": "7c4cbd63-b00d-48e5-9f34-0d12ec4be350",
   "metadata": {},
   "outputs": [],
   "source": [
    "#2000\n",
    "artists = []\n",
    "titles = []\n",
    "years = []\n",
    "\n",
    "for artist in soup2000.select(\"td.art\"): #Artist\n",
    "    artists.append(artist.get_text())\n",
    "    \n",
    "for title in soup2000.select(\"td.tit\"): #Title\n",
    "    titles.append(title.get_text())\n",
    "    \n",
    "for year in soup2000.select(\"td.yer\"): #Year\n",
    "    years.append(year.get_text())\n",
    "\n",
    "year2000 = pd.DataFrame({'artist':artists, 'title':titles, 'year':years})"
   ]
  },
  {
   "cell_type": "code",
   "execution_count": 28,
   "id": "47723893-f773-4df6-be33-168b208298e6",
   "metadata": {},
   "outputs": [],
   "source": [
    "#2010\n",
    "artists = []\n",
    "titles = []\n",
    "years = []\n",
    "\n",
    "for artist in soup2010.select(\"td.art\"): #Artist\n",
    "    artists.append(artist.get_text())\n",
    "    \n",
    "for title in soup2010.select(\"td.tit\"): #Title\n",
    "    titles.append(title.get_text())\n",
    "    \n",
    "for year in soup2010.select(\"td.yer\"): #Year\n",
    "    years.append(year.get_text())\n",
    "\n",
    "year2010 = pd.DataFrame({'artist':artists, 'title':titles, 'year':years})"
   ]
  },
  {
   "cell_type": "code",
   "execution_count": 29,
   "id": "01f01e3a-edb4-4470-ab91-43fb975ded5a",
   "metadata": {},
   "outputs": [],
   "source": [
    "top100_80s_10s = pd.concat([year1980,year1990,year2000,year2010], axis = 0)"
   ]
  },
  {
   "cell_type": "code",
   "execution_count": 30,
   "id": "4caba022-780f-48fa-96e9-bd6cc63484cb",
   "metadata": {},
   "outputs": [
    {
     "data": {
      "text/html": [
       "<div>\n",
       "<style scoped>\n",
       "    .dataframe tbody tr th:only-of-type {\n",
       "        vertical-align: middle;\n",
       "    }\n",
       "\n",
       "    .dataframe tbody tr th {\n",
       "        vertical-align: top;\n",
       "    }\n",
       "\n",
       "    .dataframe thead th {\n",
       "        text-align: right;\n",
       "    }\n",
       "</style>\n",
       "<table border=\"1\" class=\"dataframe\">\n",
       "  <thead>\n",
       "    <tr style=\"text-align: right;\">\n",
       "      <th></th>\n",
       "      <th>artist</th>\n",
       "      <th>title</th>\n",
       "      <th>year</th>\n",
       "    </tr>\n",
       "  </thead>\n",
       "  <tbody>\n",
       "    <tr>\n",
       "      <th>0</th>\n",
       "      <td>Pink Floyd</td>\n",
       "      <td>Another Brick in the Wall (part 2)</td>\n",
       "      <td>1980</td>\n",
       "    </tr>\n",
       "    <tr>\n",
       "      <th>1</th>\n",
       "      <td>Irene Cara</td>\n",
       "      <td>Flashdance... What a Feeling</td>\n",
       "      <td>1983</td>\n",
       "    </tr>\n",
       "    <tr>\n",
       "      <th>2</th>\n",
       "      <td>Kim Carnes</td>\n",
       "      <td>Bette Davis Eyes</td>\n",
       "      <td>1981</td>\n",
       "    </tr>\n",
       "    <tr>\n",
       "      <th>3</th>\n",
       "      <td>The Police</td>\n",
       "      <td>Every Breath You Take</td>\n",
       "      <td>1983</td>\n",
       "    </tr>\n",
       "    <tr>\n",
       "      <th>4</th>\n",
       "      <td>Michael Jackson</td>\n",
       "      <td>Billie Jean</td>\n",
       "      <td>1983</td>\n",
       "    </tr>\n",
       "    <tr>\n",
       "      <th>...</th>\n",
       "      <td>...</td>\n",
       "      <td>...</td>\n",
       "      <td>...</td>\n",
       "    </tr>\n",
       "    <tr>\n",
       "      <th>55</th>\n",
       "      <td>Fine Young Cannibals</td>\n",
       "      <td>She Drives Me Crazy</td>\n",
       "      <td>1989</td>\n",
       "    </tr>\n",
       "    <tr>\n",
       "      <th>56</th>\n",
       "      <td>Lionel Richie</td>\n",
       "      <td>All Night Long (All Night)</td>\n",
       "      <td>1983</td>\n",
       "    </tr>\n",
       "    <tr>\n",
       "      <th>57</th>\n",
       "      <td>Roxette</td>\n",
       "      <td>The Look</td>\n",
       "      <td>1989</td>\n",
       "    </tr>\n",
       "    <tr>\n",
       "      <th>58</th>\n",
       "      <td>UB40</td>\n",
       "      <td>Red Red Wine</td>\n",
       "      <td>1983</td>\n",
       "    </tr>\n",
       "    <tr>\n",
       "      <th>59</th>\n",
       "      <td>The Bangles</td>\n",
       "      <td>Eternal Flame</td>\n",
       "      <td>1989</td>\n",
       "    </tr>\n",
       "  </tbody>\n",
       "</table>\n",
       "<p>60 rows × 3 columns</p>\n",
       "</div>"
      ],
      "text/plain": [
       "                  artist                               title  year\n",
       "0             Pink Floyd  Another Brick in the Wall (part 2)  1980\n",
       "1             Irene Cara        Flashdance... What a Feeling  1983\n",
       "2             Kim Carnes                    Bette Davis Eyes  1981\n",
       "3             The Police               Every Breath You Take  1983\n",
       "4        Michael Jackson                         Billie Jean  1983\n",
       "..                   ...                                 ...   ...\n",
       "55  Fine Young Cannibals                 She Drives Me Crazy  1989\n",
       "56         Lionel Richie          All Night Long (All Night)  1983\n",
       "57               Roxette                            The Look  1989\n",
       "58                  UB40                        Red Red Wine  1983\n",
       "59           The Bangles                       Eternal Flame  1989\n",
       "\n",
       "[60 rows x 3 columns]"
      ]
     },
     "execution_count": 30,
     "metadata": {},
     "output_type": "execute_result"
    }
   ],
   "source": [
    "top100_80s_10s.head(60)"
   ]
  },
  {
   "cell_type": "code",
   "execution_count": 31,
   "id": "fa2a0a50-95b6-4fd8-a709-1fb50b67caaa",
   "metadata": {},
   "outputs": [],
   "source": [
    "# ----- Lab 3 starts here (User Input & Hot Song Recommender)"
   ]
  },
  {
   "cell_type": "code",
   "execution_count": 32,
   "id": "fd8cb837-7203-4953-b4c6-7a6e63ddc881",
   "metadata": {},
   "outputs": [],
   "source": [
    "# Compose hot songs dataframe (top100billboard, top100vortex, top100apple)\n",
    "\n",
    "hot_songs = pd.concat([top100billboard,top100vortex,top100apple], axis = 0)\n",
    "# Not removing duplicates on purpose... they do not spoil anything here, and actually can make the user input matched a bit more frequently\n",
    "\n",
    "# lower case\n",
    "hot_songs['artist'] = hot_songs['artist'].apply(lambda x: x.lower())\n",
    "hot_songs['title'] = hot_songs['title'].apply(lambda x: x.lower())\n",
    "hot_songs.sort_values(by = 'title', inplace = True)"
   ]
  },
  {
   "cell_type": "code",
   "execution_count": 33,
   "id": "068ab2fb-3b55-4d79-b810-56dc62b65079",
   "metadata": {},
   "outputs": [
    {
     "name": "stdin",
     "output_type": "stream",
     "text": [
      "Please type the song name: aaa\n",
      "Please type the artist: aaa\n"
     ]
    }
   ],
   "source": [
    "# Read user input\n",
    "song = input('Please type the song name:').lower()\n",
    "artist = input('Please type the artist:').lower()"
   ]
  },
  {
   "cell_type": "code",
   "execution_count": 34,
   "id": "ff1036c5-1da8-4b63-934b-2d833f7fabf8",
   "metadata": {},
   "outputs": [],
   "source": [
    "import random\n",
    "\n",
    "# If user typed the correct title and artist of a hot song, return any (other) hot song\n",
    "\n",
    "if hot_songs[(hot_songs['title'] == song) & (hot_songs['artist'] == artist)].count()[0] > 0:\n",
    "    rand_song = hot_songs[(hot_songs['title'] != song) & (hot_songs['artist'] != artist)].iloc[random.choice(hot_songs.index)]\n",
    "    new_song = rand_song[0] + ' - ' + rand_song[1]\n",
    "    print('Hot song entered, why don\\'t you try this one then:')\n",
    "    print('\\033[1;32m', new_song)"
   ]
  },
  {
   "cell_type": "code",
   "execution_count": 35,
   "id": "ce4bce33-50ed-42d1-8a9e-0065268dc96e",
   "metadata": {},
   "outputs": [],
   "source": [
    "# ----- Lab 4 starts here (API wrappers - Create your collection of songs & audio features)"
   ]
  },
  {
   "cell_type": "code",
   "execution_count": 36,
   "id": "d17b9a5f-9987-4c92-b711-1d95cd7e66cd",
   "metadata": {},
   "outputs": [],
   "source": [
    "# Creating Spotify wrapper\n",
    "\n",
    "import spotipy\n",
    "from spotipy.oauth2 import SpotifyClientCredentials\n",
    "\n",
    "secrets_file = open(\"secrets.txt\",\"r\")\n",
    "string = secrets_file.read()\n",
    "\n",
    "secrets_dict={}\n",
    "for line in string.split('\\n'):\n",
    "    if len(line) > 0:\n",
    "        secrets_dict[line.split(':')[0]]=line.split(':')[1]\n",
    "\n",
    "sp = spotipy.Spotify(auth_manager=SpotifyClientCredentials(client_id=secrets_dict['cid'], client_secret=secrets_dict['csecret']))"
   ]
  },
  {
   "cell_type": "code",
   "execution_count": 37,
   "id": "893c3b78-5f21-4ed9-9c85-14330f97631a",
   "metadata": {},
   "outputs": [],
   "source": [
    "# Playlist crawler - get song name, artists, uri and song features\n",
    "# Not the cleanest or quickest code.. but it does the job\n",
    "\n",
    "def playlist_crawler(playlist_id):\n",
    "\n",
    "    import pandas as pd \n",
    "    from random import randint\n",
    "    from time import sleep\n",
    "    from tqdm import tqdm as tqdm\n",
    "    import time\n",
    "    \n",
    "    # tracks extractor\n",
    "    results = sp.user_playlist_tracks(\"spotify\",playlist_id)\n",
    "\n",
    "    tracks = results['items']\n",
    "    while results['next']!=None:\n",
    "        results = sp.next(results)\n",
    "        tracks = tracks + results['items']\n",
    "        sleep(randint(1,2))\n",
    "\n",
    "    data = []\n",
    "    for item in tracks:\n",
    "        if item['track'] is not None:\n",
    "            for artist in item['track']['artists']:\n",
    "                data.append([(item['track']['name'], artist['name'], item['track']['uri'])])\n",
    "\n",
    "    data = [item for sublist in data for item in sublist] # flatten the list of lists\n",
    "\n",
    "    # feature extractor\n",
    "    features = []\n",
    "    for item in data:\n",
    "        features.append(sp.audio_features(item[2]))\n",
    "\n",
    "    df_features = pd.DataFrame([])\n",
    "    for song in features:\n",
    "        df_features = df_features.append([song[0]])\n",
    "\n",
    "\n",
    "    semi = pd.DataFrame([])\n",
    "    for item in data:\n",
    "        semi = semi.append(pd.Series(item), ignore_index=True)\n",
    "        \n",
    "    df_features = df_features.reset_index(drop=True)\n",
    "    \n",
    "    global final\n",
    "    \n",
    "    final = pd.concat([semi,df_features], axis = 1)\n",
    "\n",
    "    final.columns.values[0] = 'title'\n",
    "    final.columns.values[1] = 'artist'\n",
    "    final.columns.values[2] = 'uri2'\n",
    "\n",
    "    final = final[['title','artist','danceability','energy','key','loudness','mode','speechiness','acousticness','instrumentalness','liveness','valence','tempo','uri','duration_ms','time_signature']]"
   ]
  },
  {
   "cell_type": "code",
   "execution_count": 48,
   "id": "fc752cb5-4456-417e-9b8a-aa0d657e65ea",
   "metadata": {},
   "outputs": [],
   "source": [
    "# Hand-pick playlists to get music information from\n",
    "\n",
    "playlists = {}\n",
    "\n",
    "# Pop\n",
    "playlists['todays_top_hits'] = '37i9dQZF1DXcBWIGoYBM5M'\n",
    "playlists['mega_hit_mix'] = '37i9dQZF1DXbYM3nMM0oPk'\n",
    "playlists['pop_up'] = '37i9dQZF1DX6aTaZa0K6VA'\n",
    "playlists['hit_rewind'] = '37i9dQZF1DX0s5kDXi1oC5'\n",
    "playlists['soft_pop_hits'] = '37i9dQZF1DWTwnEm1IYyoj'\n",
    "playlists['party_hits'] = '37i9dQZF1DXa2PvUpywmrr'\n",
    "playlists['pop_remix'] = '37i9dQZF1DXcZDD7cfEKhW'\n",
    "\n",
    "# Rock\n",
    "playlists['rock_classics'] = '37i9dQZF1DWXRqgorJj26U'\n",
    "playlists['rock_this'] = '37i9dQZF1DXcF6B6QPhFDv'\n",
    "playlists['70s_rock_anthems'] = '37i9dQZF1DWWwzidNQX6jx'\n",
    "playlists['80s_rock_anthems'] = '37i9dQZF1DX1spT6G94GFC'\n",
    "playlists['90s_rock_anthems'] = '37i9dQZF1DX1rVvRgjX59F'\n",
    "playlists['00s_rock_anthems'] = '37i9dQZF1DX3oM43CtKnRV'\n",
    "playlists['soft_rock'] = '37i9dQZF1DX6xOPeSOGone'\n",
    "playlists['legendary'] = '37i9dQZF1DWWGFQLoP9qlv'\n",
    "playlists['rock_party'] = '37i9dQZF1DX8FwnYE6PRvL'\n",
    "playlists['80s_hard_rock'] = '37i9dQZF1DX68H8ZujdnN7'\n",
    "\n",
    "# Dance, Electro, Techno, House\n",
    "playlists['mint'] = '37i9dQZF1DX4dyzvuaRJ0n'\n",
    "playlists['dance_party'] = '37i9dQZF1DXaXB8fQg7xif'\n",
    "playlists['throwback_party'] = '37i9dQZF1DX7F6T2n2fegs'\n",
    "playlists['massive_dance_hits'] = '37i9dQZF1DX5uokaTN4FTR'\n",
    "playlists['techno_bunker'] = '37i9dQZF1DX6J5NfMJS675'\n",
    "playlists['best_of_house_2000_2010'] = '4feq7UBWFnq7ACWqILr3D5'\n",
    "\n",
    "# Rap\n",
    "playlists['rap_caviar'] = '37i9dQZF1DX0XUsuxWHRQd'\n",
    "playlists['get_turnt'] = '37i9dQZF1DWY4xHQp97fN6'\n",
    "playlists['i_love_my_90s_hiphop'] = '37i9dQZF1DX186v583rmzp'\n",
    "playlists['most_necessary'] = '37i9dQZF1DX2RxBh64BHjQ'\n",
    "\n",
    "# R&B\n",
    "playlists['are_be'] = '37i9dQZF1DX4SBhb3fqCJd'\n",
    "playlists['i_love_my_00s_rb'] = '37i9dQZF1DWYmmr74INQlb'\n",
    "playlists['i_love_my_90s_rb'] = '37i9dQZF1DX6VDO8a6cQME'\n",
    "\n",
    "# Jazz & Blues\n",
    "playlists['coffee_table_jazz'] = '37i9dQZF1DWVqfgj8NZEp1'\n",
    "playlists['funky_heavy_bluesy'] = '37i9dQZF1DX9stbPFTxeaB'\n",
    "playlists['jazz_classics'] = '37i9dQZF1DXbITWG1ZJKYt'\n",
    "playlists['blues_classics'] = '37i9dQZF1DXd9rSDyQguIk'\n",
    "\n",
    "# Country\n",
    "playlists['hot_country'] = '37i9dQZF1DX1lVhptIYRda'\n",
    "playlists['90s_country'] = '37i9dQZF1DWVpjAJGB70vU'\n",
    "\n",
    "# Classical\n",
    "playlists['classical_essentials'] = '37i9dQZF1DWWEJlAGA9gs0'\n",
    "\n",
    "# Latin\n",
    "playlists['viva_latino'] = '37i9dQZF1DX10zKzsJ2jva'\n",
    "\n",
    "# Other\n",
    "playlists['beast_mode'] = '37i9dQZF1DX76Wlfdnj7AP'\n",
    "playlists['biggest_playlist_ever'] = '4rnleEAOdmFAbRcNCgZMpY'"
   ]
  },
  {
   "cell_type": "code",
   "execution_count": 49,
   "id": "6c5ea402-cde1-46ab-a46d-87fe5a021e55",
   "metadata": {
    "tags": []
   },
   "outputs": [
    {
     "name": "stderr",
     "output_type": "stream",
     "text": [
      "100%|██████████| 40/40 [25:19<00:00, 38.00s/it] \n"
     ]
    },
    {
     "data": {
      "text/html": [
       "<div>\n",
       "<style scoped>\n",
       "    .dataframe tbody tr th:only-of-type {\n",
       "        vertical-align: middle;\n",
       "    }\n",
       "\n",
       "    .dataframe tbody tr th {\n",
       "        vertical-align: top;\n",
       "    }\n",
       "\n",
       "    .dataframe thead th {\n",
       "        text-align: right;\n",
       "    }\n",
       "</style>\n",
       "<table border=\"1\" class=\"dataframe\">\n",
       "  <thead>\n",
       "    <tr style=\"text-align: right;\">\n",
       "      <th></th>\n",
       "      <th>title</th>\n",
       "      <th>artist</th>\n",
       "      <th>danceability</th>\n",
       "      <th>energy</th>\n",
       "      <th>key</th>\n",
       "      <th>loudness</th>\n",
       "      <th>mode</th>\n",
       "      <th>speechiness</th>\n",
       "      <th>acousticness</th>\n",
       "      <th>instrumentalness</th>\n",
       "      <th>liveness</th>\n",
       "      <th>valence</th>\n",
       "      <th>tempo</th>\n",
       "      <th>uri</th>\n",
       "      <th>duration_ms</th>\n",
       "      <th>time_signature</th>\n",
       "    </tr>\n",
       "  </thead>\n",
       "  <tbody>\n",
       "    <tr>\n",
       "      <th>0</th>\n",
       "      <td>Oh My God</td>\n",
       "      <td>Adele</td>\n",
       "      <td>0.534</td>\n",
       "      <td>0.725</td>\n",
       "      <td>1.0</td>\n",
       "      <td>-3.906</td>\n",
       "      <td>1.0</td>\n",
       "      <td>0.0460</td>\n",
       "      <td>0.09100</td>\n",
       "      <td>0.000000</td>\n",
       "      <td>0.0264</td>\n",
       "      <td>0.550</td>\n",
       "      <td>88.098</td>\n",
       "      <td>spotify:track:3Kkjo3cT83cw09VJyrLNwX</td>\n",
       "      <td>225149.0</td>\n",
       "      <td>4.0</td>\n",
       "    </tr>\n",
       "    <tr>\n",
       "      <th>1</th>\n",
       "      <td>Shivers</td>\n",
       "      <td>Ed Sheeran</td>\n",
       "      <td>0.788</td>\n",
       "      <td>0.859</td>\n",
       "      <td>2.0</td>\n",
       "      <td>-2.724</td>\n",
       "      <td>1.0</td>\n",
       "      <td>0.0856</td>\n",
       "      <td>0.28100</td>\n",
       "      <td>0.000000</td>\n",
       "      <td>0.0424</td>\n",
       "      <td>0.822</td>\n",
       "      <td>141.020</td>\n",
       "      <td>spotify:track:6bQfNiqyCX7UaQSvVVGo4I</td>\n",
       "      <td>207853.0</td>\n",
       "      <td>4.0</td>\n",
       "    </tr>\n",
       "    <tr>\n",
       "      <th>2</th>\n",
       "      <td>Cold Heart - PNAU Remix</td>\n",
       "      <td>Elton John</td>\n",
       "      <td>0.796</td>\n",
       "      <td>0.798</td>\n",
       "      <td>1.0</td>\n",
       "      <td>-6.312</td>\n",
       "      <td>1.0</td>\n",
       "      <td>0.0317</td>\n",
       "      <td>0.03400</td>\n",
       "      <td>0.000042</td>\n",
       "      <td>0.0952</td>\n",
       "      <td>0.942</td>\n",
       "      <td>116.032</td>\n",
       "      <td>spotify:track:6zSpb8dQRaw0M1dK8PBwQz</td>\n",
       "      <td>202735.0</td>\n",
       "      <td>4.0</td>\n",
       "    </tr>\n",
       "    <tr>\n",
       "      <th>3</th>\n",
       "      <td>Cold Heart - PNAU Remix</td>\n",
       "      <td>Dua Lipa</td>\n",
       "      <td>0.796</td>\n",
       "      <td>0.798</td>\n",
       "      <td>1.0</td>\n",
       "      <td>-6.312</td>\n",
       "      <td>1.0</td>\n",
       "      <td>0.0317</td>\n",
       "      <td>0.03400</td>\n",
       "      <td>0.000042</td>\n",
       "      <td>0.0952</td>\n",
       "      <td>0.942</td>\n",
       "      <td>116.032</td>\n",
       "      <td>spotify:track:6zSpb8dQRaw0M1dK8PBwQz</td>\n",
       "      <td>202735.0</td>\n",
       "      <td>4.0</td>\n",
       "    </tr>\n",
       "    <tr>\n",
       "      <th>4</th>\n",
       "      <td>Cold Heart - PNAU Remix</td>\n",
       "      <td>PNAU</td>\n",
       "      <td>0.796</td>\n",
       "      <td>0.798</td>\n",
       "      <td>1.0</td>\n",
       "      <td>-6.312</td>\n",
       "      <td>1.0</td>\n",
       "      <td>0.0317</td>\n",
       "      <td>0.03400</td>\n",
       "      <td>0.000042</td>\n",
       "      <td>0.0952</td>\n",
       "      <td>0.942</td>\n",
       "      <td>116.032</td>\n",
       "      <td>spotify:track:6zSpb8dQRaw0M1dK8PBwQz</td>\n",
       "      <td>202735.0</td>\n",
       "      <td>4.0</td>\n",
       "    </tr>\n",
       "    <tr>\n",
       "      <th>...</th>\n",
       "      <td>...</td>\n",
       "      <td>...</td>\n",
       "      <td>...</td>\n",
       "      <td>...</td>\n",
       "      <td>...</td>\n",
       "      <td>...</td>\n",
       "      <td>...</td>\n",
       "      <td>...</td>\n",
       "      <td>...</td>\n",
       "      <td>...</td>\n",
       "      <td>...</td>\n",
       "      <td>...</td>\n",
       "      <td>...</td>\n",
       "      <td>...</td>\n",
       "      <td>...</td>\n",
       "      <td>...</td>\n",
       "    </tr>\n",
       "    <tr>\n",
       "      <th>13651</th>\n",
       "      <td>Venom</td>\n",
       "      <td>Little Simz</td>\n",
       "      <td>0.436</td>\n",
       "      <td>0.655</td>\n",
       "      <td>7.0</td>\n",
       "      <td>-8.153</td>\n",
       "      <td>1.0</td>\n",
       "      <td>0.1590</td>\n",
       "      <td>0.42500</td>\n",
       "      <td>0.000000</td>\n",
       "      <td>0.3930</td>\n",
       "      <td>0.523</td>\n",
       "      <td>139.712</td>\n",
       "      <td>spotify:track:3A0ITFj6kbb9CggwtPe55f</td>\n",
       "      <td>154749.0</td>\n",
       "      <td>4.0</td>\n",
       "    </tr>\n",
       "    <tr>\n",
       "      <th>13653</th>\n",
       "      <td>Hermit the Frog</td>\n",
       "      <td>MARINA</td>\n",
       "      <td>0.609</td>\n",
       "      <td>0.679</td>\n",
       "      <td>0.0</td>\n",
       "      <td>-4.545</td>\n",
       "      <td>1.0</td>\n",
       "      <td>0.0312</td>\n",
       "      <td>0.24300</td>\n",
       "      <td>0.000000</td>\n",
       "      <td>0.1990</td>\n",
       "      <td>0.487</td>\n",
       "      <td>122.034</td>\n",
       "      <td>spotify:track:4Zcz6saEkOII3PlXd9gN3o</td>\n",
       "      <td>215960.0</td>\n",
       "      <td>4.0</td>\n",
       "    </tr>\n",
       "    <tr>\n",
       "      <th>13655</th>\n",
       "      <td>WHOLE LOTTA MONEY</td>\n",
       "      <td>BIA</td>\n",
       "      <td>0.897</td>\n",
       "      <td>0.371</td>\n",
       "      <td>1.0</td>\n",
       "      <td>-5.019</td>\n",
       "      <td>1.0</td>\n",
       "      <td>0.3680</td>\n",
       "      <td>0.09040</td>\n",
       "      <td>0.000000</td>\n",
       "      <td>0.3250</td>\n",
       "      <td>0.441</td>\n",
       "      <td>81.008</td>\n",
       "      <td>spotify:track:5yorXJWdBan1Vlh116ZtQ7</td>\n",
       "      <td>156005.0</td>\n",
       "      <td>4.0</td>\n",
       "    </tr>\n",
       "    <tr>\n",
       "      <th>13656</th>\n",
       "      <td>Slumber Party (feat. Princess Nokia)</td>\n",
       "      <td>Ashnikko</td>\n",
       "      <td>0.964</td>\n",
       "      <td>0.398</td>\n",
       "      <td>11.0</td>\n",
       "      <td>-8.981</td>\n",
       "      <td>0.0</td>\n",
       "      <td>0.0795</td>\n",
       "      <td>0.00151</td>\n",
       "      <td>0.000039</td>\n",
       "      <td>0.1010</td>\n",
       "      <td>0.563</td>\n",
       "      <td>105.012</td>\n",
       "      <td>spotify:track:11ZulcYY4lowvcQm4oe3VJ</td>\n",
       "      <td>178405.0</td>\n",
       "      <td>4.0</td>\n",
       "    </tr>\n",
       "    <tr>\n",
       "      <th>13657</th>\n",
       "      <td>Slumber Party (feat. Princess Nokia)</td>\n",
       "      <td>Princess Nokia</td>\n",
       "      <td>0.964</td>\n",
       "      <td>0.398</td>\n",
       "      <td>11.0</td>\n",
       "      <td>-8.981</td>\n",
       "      <td>0.0</td>\n",
       "      <td>0.0795</td>\n",
       "      <td>0.00151</td>\n",
       "      <td>0.000039</td>\n",
       "      <td>0.1010</td>\n",
       "      <td>0.563</td>\n",
       "      <td>105.012</td>\n",
       "      <td>spotify:track:11ZulcYY4lowvcQm4oe3VJ</td>\n",
       "      <td>178405.0</td>\n",
       "      <td>4.0</td>\n",
       "    </tr>\n",
       "  </tbody>\n",
       "</table>\n",
       "<p>11774 rows × 16 columns</p>\n",
       "</div>"
      ],
      "text/plain": [
       "                                      title          artist  danceability  \\\n",
       "0                                 Oh My God           Adele         0.534   \n",
       "1                                   Shivers      Ed Sheeran         0.788   \n",
       "2                   Cold Heart - PNAU Remix      Elton John         0.796   \n",
       "3                   Cold Heart - PNAU Remix        Dua Lipa         0.796   \n",
       "4                   Cold Heart - PNAU Remix            PNAU         0.796   \n",
       "...                                     ...             ...           ...   \n",
       "13651                                 Venom     Little Simz         0.436   \n",
       "13653                       Hermit the Frog          MARINA         0.609   \n",
       "13655                     WHOLE LOTTA MONEY             BIA         0.897   \n",
       "13656  Slumber Party (feat. Princess Nokia)        Ashnikko         0.964   \n",
       "13657  Slumber Party (feat. Princess Nokia)  Princess Nokia         0.964   \n",
       "\n",
       "       energy   key  loudness  mode  speechiness  acousticness  \\\n",
       "0       0.725   1.0    -3.906   1.0       0.0460       0.09100   \n",
       "1       0.859   2.0    -2.724   1.0       0.0856       0.28100   \n",
       "2       0.798   1.0    -6.312   1.0       0.0317       0.03400   \n",
       "3       0.798   1.0    -6.312   1.0       0.0317       0.03400   \n",
       "4       0.798   1.0    -6.312   1.0       0.0317       0.03400   \n",
       "...       ...   ...       ...   ...          ...           ...   \n",
       "13651   0.655   7.0    -8.153   1.0       0.1590       0.42500   \n",
       "13653   0.679   0.0    -4.545   1.0       0.0312       0.24300   \n",
       "13655   0.371   1.0    -5.019   1.0       0.3680       0.09040   \n",
       "13656   0.398  11.0    -8.981   0.0       0.0795       0.00151   \n",
       "13657   0.398  11.0    -8.981   0.0       0.0795       0.00151   \n",
       "\n",
       "       instrumentalness  liveness  valence    tempo  \\\n",
       "0              0.000000    0.0264    0.550   88.098   \n",
       "1              0.000000    0.0424    0.822  141.020   \n",
       "2              0.000042    0.0952    0.942  116.032   \n",
       "3              0.000042    0.0952    0.942  116.032   \n",
       "4              0.000042    0.0952    0.942  116.032   \n",
       "...                 ...       ...      ...      ...   \n",
       "13651          0.000000    0.3930    0.523  139.712   \n",
       "13653          0.000000    0.1990    0.487  122.034   \n",
       "13655          0.000000    0.3250    0.441   81.008   \n",
       "13656          0.000039    0.1010    0.563  105.012   \n",
       "13657          0.000039    0.1010    0.563  105.012   \n",
       "\n",
       "                                        uri  duration_ms  time_signature  \n",
       "0      spotify:track:3Kkjo3cT83cw09VJyrLNwX     225149.0             4.0  \n",
       "1      spotify:track:6bQfNiqyCX7UaQSvVVGo4I     207853.0             4.0  \n",
       "2      spotify:track:6zSpb8dQRaw0M1dK8PBwQz     202735.0             4.0  \n",
       "3      spotify:track:6zSpb8dQRaw0M1dK8PBwQz     202735.0             4.0  \n",
       "4      spotify:track:6zSpb8dQRaw0M1dK8PBwQz     202735.0             4.0  \n",
       "...                                     ...          ...             ...  \n",
       "13651  spotify:track:3A0ITFj6kbb9CggwtPe55f     154749.0             4.0  \n",
       "13653  spotify:track:4Zcz6saEkOII3PlXd9gN3o     215960.0             4.0  \n",
       "13655  spotify:track:5yorXJWdBan1Vlh116ZtQ7     156005.0             4.0  \n",
       "13656  spotify:track:11ZulcYY4lowvcQm4oe3VJ     178405.0             4.0  \n",
       "13657  spotify:track:11ZulcYY4lowvcQm4oe3VJ     178405.0             4.0  \n",
       "\n",
       "[11774 rows x 16 columns]"
      ]
     },
     "execution_count": 49,
     "metadata": {},
     "output_type": "execute_result"
    }
   ],
   "source": [
    "# Run the crawler for each playlist.. create the final database\n",
    "\n",
    "# !pip install tqdm\n",
    "from tqdm import tqdm as tqdm\n",
    "import time\n",
    "\n",
    "database = pd.DataFrame([])\n",
    "\n",
    "for playlist in tqdm(list(playlists.values())):\n",
    "        playlist_crawler(playlist)\n",
    "        database = database.append(final)\n",
    "database.reset_index(drop=True, inplace=True)\n",
    "database = database[~database.duplicated(['artist', 'title'])]\n",
    "database.to_csv('db.csv')\n",
    "database"
   ]
  }
 ],
 "metadata": {
  "kernelspec": {
   "display_name": "Python 3 (ipykernel)",
   "language": "python",
   "name": "python3"
  },
  "language_info": {
   "codemirror_mode": {
    "name": "ipython",
    "version": 3
   },
   "file_extension": ".py",
   "mimetype": "text/x-python",
   "name": "python",
   "nbconvert_exporter": "python",
   "pygments_lexer": "ipython3",
   "version": "3.8.8"
  }
 },
 "nbformat": 4,
 "nbformat_minor": 5
}
